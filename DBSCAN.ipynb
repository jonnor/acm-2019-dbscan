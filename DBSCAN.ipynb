{
 "cells": [
  {
   "cell_type": "code",
   "execution_count": 91,
   "metadata": {},
   "outputs": [],
   "source": [
    "import numpy\n",
    "import pandas\n",
    "import sklearn.cluster\n",
    "import scipy.stats\n",
    "from matplotlib import pyplot as plt\n",
    "\n"
   ]
  },
  {
   "cell_type": "code",
   "execution_count": 65,
   "metadata": {},
   "outputs": [
    {
     "name": "stdout",
     "output_type": "stream",
     "text": [
      "raw data (31499, 85)\n"
     ]
    },
    {
     "data": {
      "text/html": [
       "<div>\n",
       "<style scoped>\n",
       "    .dataframe tbody tr th:only-of-type {\n",
       "        vertical-align: middle;\n",
       "    }\n",
       "\n",
       "    .dataframe tbody tr th {\n",
       "        vertical-align: top;\n",
       "    }\n",
       "\n",
       "    .dataframe thead th {\n",
       "        text-align: right;\n",
       "    }\n",
       "</style>\n",
       "<table border=\"1\" class=\"dataframe\">\n",
       "  <thead>\n",
       "    <tr style=\"text-align: right;\">\n",
       "      <th></th>\n",
       "      <th>SEQN</th>\n",
       "      <th>WTDRD1</th>\n",
       "      <th>WTDR2D</th>\n",
       "      <th>DR1ILINE</th>\n",
       "      <th>DR1DRSTZ</th>\n",
       "      <th>DR1EXMER</th>\n",
       "      <th>DRABF</th>\n",
       "      <th>DRDINT</th>\n",
       "      <th>DR1DBIH</th>\n",
       "      <th>DR1DAY</th>\n",
       "      <th>...</th>\n",
       "      <th>DR1IM181</th>\n",
       "      <th>DR1IM201</th>\n",
       "      <th>DR1IM221</th>\n",
       "      <th>DR1IP182</th>\n",
       "      <th>DR1IP183</th>\n",
       "      <th>DR1IP184</th>\n",
       "      <th>DR1IP204</th>\n",
       "      <th>DR1IP205</th>\n",
       "      <th>DR1IP225</th>\n",
       "      <th>DR1IP226</th>\n",
       "    </tr>\n",
       "    <tr>\n",
       "      <th>DR1IFDCD</th>\n",
       "      <th></th>\n",
       "      <th></th>\n",
       "      <th></th>\n",
       "      <th></th>\n",
       "      <th></th>\n",
       "      <th></th>\n",
       "      <th></th>\n",
       "      <th></th>\n",
       "      <th></th>\n",
       "      <th></th>\n",
       "      <th></th>\n",
       "      <th></th>\n",
       "      <th></th>\n",
       "      <th></th>\n",
       "      <th></th>\n",
       "      <th></th>\n",
       "      <th></th>\n",
       "      <th></th>\n",
       "      <th></th>\n",
       "      <th></th>\n",
       "      <th></th>\n",
       "    </tr>\n",
       "  </thead>\n",
       "  <tbody>\n",
       "    <tr>\n",
       "      <th>94000100</th>\n",
       "      <td>62161</td>\n",
       "      <td>58373.37572</td>\n",
       "      <td>46955.91202</td>\n",
       "      <td>1</td>\n",
       "      <td>1</td>\n",
       "      <td>63</td>\n",
       "      <td>2</td>\n",
       "      <td>2</td>\n",
       "      <td>9.0</td>\n",
       "      <td>6</td>\n",
       "      <td>...</td>\n",
       "      <td>0.0</td>\n",
       "      <td>0.0</td>\n",
       "      <td>0.0</td>\n",
       "      <td>0.0</td>\n",
       "      <td>0.0</td>\n",
       "      <td>0.0</td>\n",
       "      <td>0.0</td>\n",
       "      <td>0.0</td>\n",
       "      <td>0.0</td>\n",
       "      <td>0.0</td>\n",
       "    </tr>\n",
       "  </tbody>\n",
       "</table>\n",
       "<p>1 rows × 85 columns</p>\n",
       "</div>"
      ],
      "text/plain": [
       "           SEQN       WTDRD1       WTDR2D  DR1ILINE  DR1DRSTZ  DR1EXMER  \\\n",
       "DR1IFDCD                                                                  \n",
       "94000100  62161  58373.37572  46955.91202         1         1        63   \n",
       "\n",
       "          DRABF  DRDINT  DR1DBIH  DR1DAY  ...  DR1IM181  DR1IM201  DR1IM221  \\\n",
       "DR1IFDCD                                  ...                                 \n",
       "94000100      2       2      9.0       6  ...       0.0       0.0       0.0   \n",
       "\n",
       "         DR1IP182  DR1IP183  DR1IP184  DR1IP204  DR1IP205  DR1IP225  DR1IP226  \n",
       "DR1IFDCD                                                                       \n",
       "94000100      0.0       0.0       0.0       0.0       0.0       0.0       0.0  \n",
       "\n",
       "[1 rows x 85 columns]"
      ]
     },
     "execution_count": 65,
     "metadata": {},
     "output_type": "execute_result"
    }
   ],
   "source": [
    "def get_features_names():\n",
    "    with open('./data/NHANES/features.txt') as file:\n",
    "        return [ f for f in file.read().split('\\n') if f]\n",
    "    \n",
    "def load_data(key_col = 'DR1IFDCD'):\n",
    "    df = pandas.read_csv('./data/NHANES/nhanes-dietary-complete-2011.csv')\n",
    "    df.index = df[key_col]\n",
    "    df = df.rename({'DR1IGRMS': 'weight'}, axis='columns')\n",
    "    return df\n",
    "\n",
    "data = load_data()\n",
    "print('raw data', data.shape)\n",
    "data.head(1)"
   ]
  },
  {
   "cell_type": "code",
   "execution_count": 73,
   "metadata": {},
   "outputs": [
    {
     "name": "stdout",
     "output_type": "stream",
     "text": [
      "cleaned (31303, 66)\n"
     ]
    }
   ],
   "source": [
    "def clean_data(df):\n",
    "    feature_names = get_features_names() + ['weight']\n",
    "    df = df[df['weight'] >= 1e-3] # only non-zero weight\n",
    "    df = df[feature_names] # only nutritional\n",
    "    df = df.dropna(axis='rows') # only with valid entries everywhere\n",
    "    return df\n",
    "\n",
    "cleaned = clean_data(data)\n",
    "print('cleaned', cleaned.shape)"
   ]
  },
  {
   "cell_type": "code",
   "execution_count": 122,
   "metadata": {},
   "outputs": [
    {
     "name": "stdout",
     "output_type": "stream",
     "text": [
      "(3104, 65) [[-1.01485507 -0.57066366 -0.75107337 -0.26915831 -0.66343084]\n",
      " [-0.86488523 -0.58401554 -0.7555468  -0.27267361 -0.66343084]\n",
      " [-1.11380986 -0.55557559 -0.75144944 -0.28534147 -0.66343084]]\n",
      "features (3104, 65)\n"
     ]
    }
   ],
   "source": [
    "def meanTop(df, top=5):\n",
    "    return df.sort_values('weight').head(top).mean()\n",
    "\n",
    "def get_features(df):\n",
    "    df = df.groupby(df.index).apply(meanTop) # aggregate to one entry per item\n",
    "    weight = df.weight\n",
    "    df = df.drop('weight', axis='columns')    \n",
    "    df = df.divide(weight, axis='rows') # scale by weight    \n",
    "    zz = scipy.stats.zscore(df, axis=0) # z-score to account for log-normal values\n",
    "    return zz\n",
    "    \n",
    "\n",
    "features = get_features(cleaned)\n",
    "print('features', features.shape)"
   ]
  },
  {
   "cell_type": "code",
   "execution_count": 128,
   "metadata": {},
   "outputs": [],
   "source": [
    "epsilon = 1\n",
    "min_pts = 4\n",
    "est = sklearn.cluster.DBSCAN(eps=epsilon, min_samples=min_pts, metric='euclidean')\n",
    "clusters = est.fit_predict(features)"
   ]
  },
  {
   "cell_type": "code",
   "execution_count": 170,
   "metadata": {},
   "outputs": [
    {
     "data": {
      "text/plain": [
       "0.7538939042811336"
      ]
     },
     "execution_count": 170,
     "metadata": {},
     "output_type": "execute_result"
    }
   ],
   "source": [
    "def interclass_distances(X, clusters, metric='euclidean', agg='min'):\n",
    "    if type(agg) == str:\n",
    "        agg = getattr(numpy, agg)\n",
    "    \n",
    "    from sklearn.metrics import pairwise_distances\n",
    "    n_clusters = numpy.max(clusters)\n",
    "    dist = numpy.zeros((n_clusters, n_clusters))\n",
    "    for i in range(n_clusters):\n",
    "        for j in range(n_clusters):\n",
    "            A = X[clusters == i]\n",
    "            B = X[clusters == j]\n",
    "            p = pairwise_distances(A, B, metric=metric)\n",
    "            dist[i, j] = agg(p)\n",
    "    \n",
    "    return dist\n",
    "\n",
    "def min_interclass_distance(X, clusters):\n",
    "    dist = interclass_distances(features, clusters, agg='min')\n",
    "    mask = numpy.ones(dist.shape, dtype=bool)\n",
    "    numpy.fill_diagonal(mask, 0)\n",
    "    min_value = numpy.min(dist[mask], axis=0)\n",
    "    #min_value = dist[mask].min(axis=0)\n",
    "    return min_value\n",
    "\n",
    "\n",
    "import seaborn\n",
    "\n",
    "dist = min_interclass_distance(features, clusters)\n",
    "dist\n",
    "#seaborn.heatmap(dist)"
   ]
  },
  {
   "cell_type": "code",
   "execution_count": 138,
   "metadata": {},
   "outputs": [
    {
     "data": {
      "text/plain": [
       "67"
      ]
     },
     "execution_count": 138,
     "metadata": {},
     "output_type": "execute_result"
    }
   ],
   "source": [
    "numpy.max(clusters)"
   ]
  },
  {
   "cell_type": "code",
   "execution_count": 130,
   "metadata": {},
   "outputs": [
    {
     "data": {
      "text/plain": [
       "2095"
      ]
     },
     "execution_count": 130,
     "metadata": {},
     "output_type": "execute_result"
    }
   ],
   "source": [
    "len(clusters[clusters == -1])"
   ]
  },
  {
   "cell_type": "code",
   "execution_count": null,
   "metadata": {},
   "outputs": [],
   "source": []
  }
 ],
 "metadata": {
  "kernelspec": {
   "display_name": "Python 3",
   "language": "python",
   "name": "python3"
  },
  "language_info": {
   "codemirror_mode": {
    "name": "ipython",
    "version": 3
   },
   "file_extension": ".py",
   "mimetype": "text/x-python",
   "name": "python",
   "nbconvert_exporter": "python",
   "pygments_lexer": "ipython3",
   "version": "3.7.3"
  }
 },
 "nbformat": 4,
 "nbformat_minor": 2
}
